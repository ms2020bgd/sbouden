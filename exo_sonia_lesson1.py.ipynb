{
 "cells": [
  {
   "cell_type": "code",
   "execution_count": 2,
   "metadata": {},
   "outputs": [
    {
     "name": "stdout",
     "output_type": "stream",
     "text": [
      "heyheyhey\n"
     ]
    }
   ],
   "source": [
    "import math\n",
    "import unittest\n",
    "\n",
    "\n",
    "# Given a string and a non-negative int n, return a larger string\n",
    "# that is n copies of the original string.\n",
    "# Example: string_times(\"hey\", 3) should return \"heyheyhey\"\n",
    "def string_times(string, n):\n",
    "    print(string * n)\n",
    "    return \n",
    "string_times(\"hey\", 3)"
   ]
  },
  {
   "cell_type": "code",
   "execution_count": 6,
   "metadata": {},
   "outputs": [
    {
     "data": {
      "text/plain": [
       "False"
      ]
     },
     "execution_count": 6,
     "metadata": {},
     "output_type": "execute_result"
    }
   ],
   "source": [
    "# Write a function which returns True if a year is a leap year.\n",
    "# A year is leap year if:\n",
    "# - it is divisible by 4 AND indivisible by 100\n",
    "# or if:\n",
    "# - it is divisible by 400\n",
    "def is_leap_year(year):\n",
    "    \n",
    "    return year % 4 == 0 and (year % 100 != 0 or year % 400 == 0)\n",
    "is_leap_year(2009)"
   ]
  },
  {
   "cell_type": "code",
   "execution_count": 29,
   "metadata": {},
   "outputs": [
    {
     "name": "stdout",
     "output_type": "stream",
     "text": [
      "None\n"
     ]
    }
   ],
   "source": [
    "# Given a list of ints, return True if one of the first 4 elements\n",
    "# in the array is a 9. The list length may be less than 4.\n",
    "def array_front9(nums):\n",
    "    exsite=\"False\"\n",
    "    if len(nums)>=4:\n",
    "        for i in range(0,3):\n",
    "            if (nums[i]==9): existe=\"True\"\n",
    "    return\n",
    "print(array_front9([1,2,3,4,9,1]))"
   ]
  },
  {
   "cell_type": "code",
   "execution_count": 21,
   "metadata": {},
   "outputs": [],
   "source": [
    "# Given a list of ints, return the list of their square root.\n",
    "def list_sqrt(nums):\n",
    "    for i in range(len(nums)): print(math.sqrt(nums[i]))\n",
    "    return \n",
    "#list_sqrt([1,2,3])"
   ]
  },
  {
   "cell_type": "code",
   "execution_count": 24,
   "metadata": {},
   "outputs": [
    {
     "data": {
      "text/plain": [
       "Counter({'d': 5, 'h': 1, 'k': 2})"
      ]
     },
     "execution_count": 24,
     "metadata": {},
     "output_type": "execute_result"
    }
   ],
   "source": [
    "# Write a function which return a dict containing the number of time each letter\n",
    "# is present in the given text.\n",
    "def occurences(text):\n",
    "    from collections import Counter\n",
    "    return Counter(text)\n",
    "occurences(\"ddhdkddk\")"
   ]
  },
  {
   "cell_type": "code",
   "execution_count": 2,
   "metadata": {},
   "outputs": [
    {
     "data": {
      "text/plain": [
       "[5, 5, 4]"
      ]
     },
     "execution_count": 2,
     "metadata": {},
     "output_type": "execute_result"
    }
   ],
   "source": [
    "# Write a function that maps a list of words into a list of\n",
    "# integers representing the lengths of the corresponding words.\n",
    "def length_words(words):\n",
    "\n",
    "    lw = []\n",
    "    for i in words:\n",
    "        lw.append(len(i))\n",
    "\n",
    "    return lw\n",
    "length_words(['ehele','hjeje','allo'])"
   ]
  },
  {
   "cell_type": "code",
   "execution_count": 4,
   "metadata": {},
   "outputs": [
    {
     "data": {
      "text/plain": [
       "[3, 0]"
      ]
     },
     "execution_count": 4,
     "metadata": {},
     "output_type": "execute_result"
    }
   ],
   "source": [
    "# Write a function that takes a number and returns a list of its digits.\n",
    "def number_to_digits(number):\n",
    "\n",
    "    digits = []\n",
    "\n",
    "    for c in str(number):\n",
    "        digits.append(int(c))\n",
    "\n",
    "    return digits\n",
    "\n",
    "number_to_digits(30)"
   ]
  },
  {
   "cell_type": "code",
   "execution_count": 6,
   "metadata": {},
   "outputs": [
    {
     "data": {
      "text/plain": [
       "'ellohay orld!way'"
      ]
     },
     "execution_count": 6,
     "metadata": {},
     "output_type": "execute_result"
    }
   ],
   "source": [
    "# Write a function that translates a text from english to Pig Latin.\n",
    "# English is translated to Pig Latin by taking the first letter of every word,\n",
    "# moving it to the end of the word, and adding 'ay'.\n",
    "def pig_latin(t):\n",
    "\n",
    "    splt = t.split()\n",
    "    s = \"\"\n",
    "    for text in splt:\n",
    "        if text[0].isupper() :\n",
    "            s+= text[1].upper()+ text[2:]+text[0].lower()+\"ay\"\n",
    "        else:\n",
    "            s+= text[1:]+text[0]+\"ay\"\n",
    "        s+=\" \"\n",
    "    return s[:-1]\n",
    "\n",
    "pig_latin(\"hello world!\")"
   ]
  },
  {
   "cell_type": "code",
   "execution_count": 10,
   "metadata": {},
   "outputs": [],
   "source": [
    "# Write a function which prints numbers from 1 to 100,\n",
    "# but which prints \"Fizz\" instead of multiple of 3,\n",
    "# \"Buzz\" instead of multiple of 5,\n",
    "# and \"FizzBuzz\" instead of multiple of 15\n",
    "def fizzbuzz():\n",
    "\n",
    "    for i in range(100):\n",
    "        if i%15:\n",
    "            print(\"FizzBuzz\")\n",
    "        elif i%5:\n",
    "            print(\"Buzz\")\n",
    "        elif i%3:\n",
    "            print(\"Fizz\")\n",
    "        else :\n",
    "            print(str(i))\n",
    "\n",
    "    return\n",
    "#fizzbuzz()"
   ]
  },
  {
   "cell_type": "code",
   "execution_count": 13,
   "metadata": {},
   "outputs": [],
   "source": [
    "weather_data = {\n",
    "    \"Paris\": {\n",
    "        \"weather_list\": [{\n",
    "            \"dt\": 1569434400,\n",
    "            \"main\": {\"temp\": 289.15, \"humidity\": 76},\n",
    "            \"dt_txt\": \"2019-09-25 18:00:00\"\n",
    "        }, {\n",
    "            \"dt\": 1569445200,\n",
    "            \"main\": {\n",
    "                \"temp\": 289.62,\n",
    "                \"humidity\": 87\n",
    "            },\n",
    "            \"dt_txt\": \"2019-09-25 21:00:00\"\n",
    "        }],\n",
    "        \"metadata\": {\n",
    "            \"coord\": {\"lat\": 48.8566, \"lon\": 2.3515},\n",
    "            \"country\": \"FR\",\n",
    "        }\n",
    "    },\n",
    "    \"London\": {\n",
    "        \"weather_list\": [{\n",
    "            \"dt\": 1569434400,\n",
    "            \"main\": {\"temp\": 289.52, \"humidity\": 77},\n",
    "            \"dt_txt\": \"2019-09-25 18:00:00\"\n",
    "        }, {\n",
    "            \"dt\": 1569445200,\n",
    "            \"main\": {\"temp\": 287.78, \"humidity\": 86},\n",
    "            \"dt_txt\": \"2019-09-25 21:00:00\"\n",
    "        }],\n",
    "        \"metadata\": {\n",
    "            \"coord\": {\"lat\": 51.5073, \"lon\": -0.1277},\n",
    "            \"country\": \"GB\",\n",
    "        }\n",
    "    }\n",
    "}"
   ]
  },
  {
   "cell_type": "code",
   "execution_count": 26,
   "metadata": {},
   "outputs": [],
   "source": [
    "# Given the above data, write a function which return a list of dict,\n",
    "# where each dict contains these fields:\n",
    "# - name (str): the city name\n",
    "# - country (str): the city country\n",
    "# - date (str): the date\n",
    "# - temp (float): the temperature in °celsius (not °kelvin)\n",
    "def extract_data(data):\n",
    "    list_dict = []\n",
    "    for (key, val) in data.items():\n",
    "        sub = {}\n",
    "        sub[\"name\"] = key\n",
    "        sub[\"country\"] = val[\"metadata\"][\"country\"]\n",
    "        sub[\"date\"] = val[\"weather_list\"][0][\"dt_txt\"]\n",
    "        sub[\"temp\"] = float(val[\"weather_list\"][0][\"main\"][\"temp\"])-273.15\n",
    "        list_dict.append(sub)\n",
    "    return list_dict\n",
    "extract_data()"
   ]
  },
  {
   "cell_type": "code",
   "execution_count": 15,
   "metadata": {},
   "outputs": [
    {
     "ename": "NameError",
     "evalue": "name 'unittest' is not defined",
     "output_type": "error",
     "traceback": [
      "\u001b[1;31m---------------------------------------------------------------------------\u001b[0m",
      "\u001b[1;31mNameError\u001b[0m                                 Traceback (most recent call last)",
      "\u001b[1;32m<ipython-input-15-0cd3ae216fc6>\u001b[0m in \u001b[0;36m<module>\u001b[1;34m\u001b[0m\n\u001b[0;32m      2\u001b[0m \u001b[1;33m\u001b[0m\u001b[0m\n\u001b[0;32m      3\u001b[0m \u001b[1;33m\u001b[0m\u001b[0m\n\u001b[1;32m----> 4\u001b[1;33m \u001b[1;32mclass\u001b[0m \u001b[0mLesson1Tests\u001b[0m\u001b[1;33m(\u001b[0m\u001b[0munittest\u001b[0m\u001b[1;33m.\u001b[0m\u001b[0mTestCase\u001b[0m\u001b[1;33m)\u001b[0m\u001b[1;33m:\u001b[0m\u001b[1;33m\u001b[0m\u001b[1;33m\u001b[0m\u001b[0m\n\u001b[0m\u001b[0;32m      5\u001b[0m     \u001b[1;32mdef\u001b[0m \u001b[0mtest_01_string_times\u001b[0m\u001b[1;33m(\u001b[0m\u001b[0mself\u001b[0m\u001b[1;33m)\u001b[0m\u001b[1;33m:\u001b[0m\u001b[1;33m\u001b[0m\u001b[1;33m\u001b[0m\u001b[0m\n\u001b[0;32m      6\u001b[0m         \u001b[0mself\u001b[0m\u001b[1;33m.\u001b[0m\u001b[0massertEqual\u001b[0m\u001b[1;33m(\u001b[0m\u001b[0mstring_times\u001b[0m\u001b[1;33m(\u001b[0m\u001b[1;34m'Plop'\u001b[0m\u001b[1;33m,\u001b[0m \u001b[1;36m2\u001b[0m\u001b[1;33m)\u001b[0m\u001b[1;33m,\u001b[0m \u001b[1;34m'PlopPlop'\u001b[0m\u001b[1;33m)\u001b[0m\u001b[1;33m\u001b[0m\u001b[1;33m\u001b[0m\u001b[0m\n",
      "\u001b[1;31mNameError\u001b[0m: name 'unittest' is not defined"
     ]
    }
   ],
   "source": [
    "# Here's our \"unit tests\" (à quoi ça sert ? => https://huit.re/gMGd03vx)\n",
    "\n",
    "\n",
    "class Lesson1Tests(unittest.TestCase):\n",
    "    def test_01_string_times(self):\n",
    "        self.assertEqual(string_times('Plop', 2), 'PlopPlop')\n",
    "        self.assertEqual(string_times('Hey', 1), 'Hey')\n",
    "        self.assertEqual(string_times('=', 4), '====')\n",
    "\n",
    "    def test_02_is_leap_year(self):\n",
    "        self.assertTrue(is_leap_year(2000))\n",
    "        self.assertTrue(is_leap_year(2020))\n",
    "        self.assertFalse(is_leap_year(1899))\n",
    "        self.assertFalse(is_leap_year(1900))\n",
    "\n",
    "    def test_03_array_front9(self):\n",
    "        self.assertEqual(array_front9([1, 2, 9, 3, 4]), True)\n",
    "        self.assertEqual(array_front9([1, 2, 3, 4, 9]), False)\n",
    "        self.assertEqual(array_front9([1, 2, 3, 4, 5]), False)\n",
    "\n",
    "    def test_04_list_sqrt(self):\n",
    "        self.assertEqual(list_sqrt([]), [])\n",
    "        self.assertEqual(\n",
    "            list_sqrt([4, 9, 16, 81]),\n",
    "            [2.0, 3.0, 4.0, 9.0]\n",
    "        )\n",
    "\n",
    "    def test_05_occurences(self):\n",
    "        self.assertEqual(\n",
    "            occurences(\"hello world\"),\n",
    "            {'h': 1, 'e': 1, 'l': 3, 'o': 2, ' ': 1, 'w': 1, 'r': 1, 'd': 1}\n",
    "        )\n",
    "\n",
    "    def test_06_length_words(self):\n",
    "        self.assertEqual(length_words(['hello', 'world']), [5, 5])\n",
    "        self.assertEqual(length_words(['hey']), [3])\n",
    "\n",
    "    def test_07_number_to_digits(self):\n",
    "        self.assertEqual(number_to_digits(2019), [2, 0, 1, 9])\n",
    "\n",
    "    def test_08_pig_latin(self):\n",
    "        self.assertEqual(pig_latin(\"Hello\"), \"Ellohay\")\n",
    "        self.assertEqual(\n",
    "            pig_latin(\"The quick brown fox\"),\n",
    "            \"Hetay uickqay rownbay oxfay\"\n",
    "        )\n",
    "\n",
    "    def test_09_extract_data(self):\n",
    "        result = extract_data(weather_data)\n",
    "        self.assertEqual(\n",
    "            result[0],\n",
    "            {\n",
    "                'name': 'Paris',\n",
    "                'country': 'FR',\n",
    "                'date': \"2019-09-25 18:00:00\",\n",
    "                'temp': 16.0\n",
    "            }\n",
    "        )\n",
    "\n",
    "\n",
    "def run_tests():\n",
    "    test_suite = unittest.makeSuite(Lesson1Tests)\n",
    "    runner = unittest.TextTestRunner(verbosity=2)\n",
    "    runner.run(test_suite)\n",
    "\n",
    "\n",
    "if __name__ == '__main__':\n",
    "    run_tests()"
   ]
  }
 ],
 "metadata": {
  "kernelspec": {
   "display_name": "Python 3",
   "language": "python",
   "name": "python3"
  },
  "language_info": {
   "codemirror_mode": {
    "name": "ipython",
    "version": 3
   },
   "file_extension": ".py",
   "mimetype": "text/x-python",
   "name": "python",
   "nbconvert_exporter": "python",
   "pygments_lexer": "ipython3",
   "version": "3.7.1"
  }
 },
 "nbformat": 4,
 "nbformat_minor": 2
}
