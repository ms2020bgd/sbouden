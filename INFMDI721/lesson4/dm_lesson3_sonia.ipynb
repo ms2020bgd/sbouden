{
 "cells": [
  {
   "cell_type": "code",
   "execution_count": null,
   "metadata": {},
   "outputs": [],
   "source": [
    "from bs4 import BeautifulSoup\n",
    "import requests\n",
    "from multiprocessing import Pool\n",
    "import requests\n",
    "from collections import defaultdict\n",
    "from github import Github\n",
    "import pandas as pd\n",
    "\n",
    "key=open('API_key.txt').read()\n",
    "\n",
    "GIST_URL = \"https://gist.github.com/paulmillr/2657075\"\n",
    "\n",
    "def get_soup_from_url(u):\n",
    "    return BeautifulSoup(requests.get(u).content, 'html.parser')"
   ]
  },
  {
   "cell_type": "code",
   "execution_count": null,
   "metadata": {},
   "outputs": [],
   "source": [
    "def all_usernames(url):\n",
    "    soup = get_soup_from_url(url)\n",
    "    rows = soup.select('article table tbody tr')\n",
    "    # The username is the text of the first link of each row:\n",
    "    usernames = [row.find('a').text for row in rows]\n",
    "    return usernames"
   ]
  },
  {
   "cell_type": "code",
   "execution_count": null,
   "metadata": {},
   "outputs": [],
   "source": [
    "g = Github(key)\n",
    "note = {}\n",
    "for i in range(20) :\n",
    "    stars = 0\n",
    "    nb_repos = 0\n",
    "    for repos in g.get_user(users[i]).get_repos():\n",
    "        stars = stars + repos.stargazers_count\n",
    "    mean_stars = stars / len(list(g.get_user(users[i]).get_repos()))\n",
    "    note[users[i]] = mean_stars\n",
    "    i += 1\n",
    "\n",
    "df = pd.DataFrame.from_dict(note, orient='index')\n",
    "df.columns = ['means stars']\n",
    "df.sort_values(by=['means stars'],ascending= False) "
   ]
  },
  {
   "cell_type": "code",
   "execution_count": null,
   "metadata": {},
   "outputs": [],
   "source": []
  }
 ],
 "metadata": {
  "kernelspec": {
   "display_name": "Python 3",
   "language": "python",
   "name": "python3"
  },
  "language_info": {
   "codemirror_mode": {
    "name": "ipython",
    "version": 3
   },
   "file_extension": ".py",
   "mimetype": "text/x-python",
   "name": "python",
   "nbconvert_exporter": "python",
   "pygments_lexer": "ipython3",
   "version": "3.7.3"
  }
 },
 "nbformat": 4,
 "nbformat_minor": 2
}
