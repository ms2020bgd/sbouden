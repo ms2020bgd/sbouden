{
 "cells": [
  {
   "cell_type": "code",
   "execution_count": 1,
   "metadata": {},
   "outputs": [],
   "source": [
    "from bs4 import BeautifulSoup\n",
    "import requests\n",
    "from multiprocessing import Pool\n",
    "\n",
    "GIST_URL = \"https://gist.github.com/paulmillr/2657075\"\n",
    "\n",
    "def get_soup_from_url(u):\n",
    "    return BeautifulSoup(requests.get(u).content, 'html.parser')"
   ]
  },
  {
   "cell_type": "code",
   "execution_count": null,
   "metadata": {},
   "outputs": [],
   "source": [
    "def all_usernames(url):\n",
    "    soup = get_soup_from_url(url)\n",
    "    rows = soup.select('article table tbody tr')\n",
    "    # The username is the text of the first link of each row:\n",
    "    usernames = [row.find('a').text for row in rows]\n",
    "    return usernames"
   ]
  }
 ],
 "metadata": {
  "kernelspec": {
   "display_name": "Python 3",
   "language": "python",
   "name": "python3"
  },
  "language_info": {
   "codemirror_mode": {
    "name": "ipython",
    "version": 3
   },
   "file_extension": ".py",
   "mimetype": "text/x-python",
   "name": "python",
   "nbconvert_exporter": "python",
   "pygments_lexer": "ipython3",
   "version": "3.7.3"
  }
 },
 "nbformat": 4,
 "nbformat_minor": 2
}
