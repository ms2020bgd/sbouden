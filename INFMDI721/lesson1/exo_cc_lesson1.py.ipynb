{
 "cells": [
  {
   "cell_type": "code",
   "execution_count": 2,
   "metadata": {},
   "outputs": [
    {
     "name": "stdout",
     "output_type": "stream",
     "text": [
      "heyheyhey\n"
     ]
    }
   ],
   "source": [
    "import math\n",
    "import unittest\n",
    "# Given a string and a non-negative int n, return a larger string\n",
    "# that is n copies of the original string.\n",
    "# Example: string_times(\"hey\", 3) should return \"heyheyhey\"\n",
    "def string_times(string, n):\n",
    "    print(string * n)\n",
    "    return \n",
    "string_times(\"hey\", 3)"
   ]
  },
  {
   "cell_type": "code",
   "execution_count": 6,
   "metadata": {},
   "outputs": [
    {
     "data": {
      "text/plain": [
       "False"
      ]
     },
     "execution_count": 6,
     "metadata": {},
     "output_type": "execute_result"
    }
   ],
   "source": [
    "# Write a function which returns True if a year is a leap year.\n",
    "# A year is leap year if:\n",
    "# - it is divisible by 4 AND indivisible by 100\n",
    "# or if:\n",
    "# - it is divisible by 400\n",
    "def is_leap_year(year):\n",
    "    \n",
    "    return year % 4 == 0 and (year % 100 != 0 or year % 400 == 0)\n",
    "is_leap_year(2009)"
   ]
  },
  {
   "cell_type": "code",
   "execution_count": 71,
   "metadata": {},
   "outputs": [
    {
     "name": "stdout",
     "output_type": "stream",
     "text": [
      "None\n"
     ]
    }
   ],
   "source": [
    "# Given a list of ints, return True if one of the first 4 elements\n",
    "# in the array is a 9. The list length may be less than 4.\n",
    "def array_front9(nums):\n",
    "    exsite=\"False\"\n",
    "    if len(nums)>=4:\n",
    "        for i in range(0,3):\n",
    "            if (nums[i]==9): existe=\"True\"\n",
    "    return\n",
    "print(array_front9([1,2,3,4,9,1]))"
   ]
  },
  {
   "cell_type": "code",
   "execution_count": 72,
   "metadata": {},
   "outputs": [
    {
     "data": {
      "text/plain": [
       "[1.0, 1.4142, 1.7321]"
      ]
     },
     "execution_count": 72,
     "metadata": {},
     "output_type": "execute_result"
    }
   ],
   "source": [
    "import math \n",
    "# Given a list of ints, return the list of their square root.\n",
    "def list_sqrt(nums):\n",
    "    L=[]\n",
    "    for i in range(len(nums)): \n",
    "        L.append(round(math.sqrt(nums[i]),4))\n",
    "    return L\n",
    "list_sqrt([1,2,3])"
   ]
  },
  {
   "cell_type": "code",
   "execution_count": 73,
   "metadata": {},
   "outputs": [
    {
     "data": {
      "text/plain": [
       "Counter({'d': 5, 'h': 1, 'k': 2})"
      ]
     },
     "execution_count": 73,
     "metadata": {},
     "output_type": "execute_result"
    }
   ],
   "source": [
    "# Write a function which return a dict containing the number of time each letter\n",
    "# is present in the given text.\n",
    "def occurences(text):\n",
    "    from collections import Counter\n",
    "    return Counter(text)\n",
    "occurences(\"ddhdkddk\")"
   ]
  },
  {
   "cell_type": "code",
   "execution_count": 74,
   "metadata": {},
   "outputs": [
    {
     "data": {
      "text/plain": [
       "[7, 6, 3, 4]"
      ]
     },
     "execution_count": 74,
     "metadata": {},
     "output_type": "execute_result"
    }
   ],
   "source": [
    "# Write a function that maps a list of words into a list of\n",
    "# integers representing the lengths of the corresponding words.\n",
    "def length_words(words):\n",
    "    for x in words:\n",
    "        #result=map(lambda x: (x,len(x)),words)\n",
    "        nb=map(lambda x: len(x),words)\n",
    "    return list(nb)\n",
    "    #return list(result)\n",
    "l = ['saturne', 'batman', 'cat', 'math'] \n",
    "length_words(l)"
   ]
  },
  {
   "cell_type": "code",
   "execution_count": 75,
   "metadata": {},
   "outputs": [
    {
     "data": {
      "text/plain": [
       "[1, 2, 2, 2, 3]"
      ]
     },
     "execution_count": 75,
     "metadata": {},
     "output_type": "execute_result"
    }
   ],
   "source": [
    "# Write a function that takes a number and returns a list of its digits.\n",
    "def number_to_digits(nb):\n",
    "    #res = [int(x) for x in str(nb)] \n",
    "    res=list(map(int,str(nb)))\n",
    "    return res\n",
    "number_to_digits(12223)"
   ]
  },
  {
   "cell_type": "code",
   "execution_count": 76,
   "metadata": {},
   "outputs": [
    {
     "data": {
      "text/plain": [
       "['ellohay', 'orldway']"
      ]
     },
     "execution_count": 76,
     "metadata": {},
     "output_type": "execute_result"
    }
   ],
   "source": [
    "# Write a function that translates a text from english to Pig Latin.\n",
    "# English is translated to Pig Latin by taking the first letter of every word,\n",
    "# moving it to the end of the word, and adding 'ay'.\n",
    "def pig_latin(txt):\n",
    "    words=txt.split()\n",
    "    ll=map(lambda x: x[1:]+x[0]+\"ay\",words)\n",
    "    return list(ll)\n",
    "pig_latin('hello world')"
   ]
  },
  {
   "cell_type": "code",
   "execution_count": 77,
   "metadata": {},
   "outputs": [],
   "source": [
    "# Write a function which prints numbers from 1 to 100,\n",
    "# but which prints \"Fizz\" instead of multiple of 3,\n",
    "# \"Buzz\" instead of multiple of 5,\n",
    "# and \"FizzBuzz\" instead of multiple of 15\n",
    "def fizzbuzz():\n",
    "    liste=[]\n",
    "    for numbers in range(1,100):\n",
    "        if numbers%15==0:\n",
    "            liste.append(\"FizzBuzz\")\n",
    "            \n",
    "        elif numbers%5==0:\n",
    "            liste.append(\"Buzz\")\n",
    "        elif numbers%3==0:\n",
    "            liste.append(\"Fizz\")\n",
    "        else :\n",
    "            liste.append(str(numbers))\n",
    "\n",
    "    return liste\n",
    "#fizzbuzz()"
   ]
  },
  {
   "cell_type": "code",
   "execution_count": 78,
   "metadata": {},
   "outputs": [
    {
     "data": {
      "text/plain": [
       "[{'name': 'Paris',\n",
       "  'country': 'FR',\n",
       "  'date': '2019-09-25 18:00:00',\n",
       "  'temp': '16.0 °celsius'},\n",
       " {'name': 'London',\n",
       "  'country': 'GB',\n",
       "  'date': '2019-09-25 18:00:00',\n",
       "  'temp': '16.4 °celsius'}]"
      ]
     },
     "execution_count": 78,
     "metadata": {},
     "output_type": "execute_result"
    }
   ],
   "source": [
    "weather_data = {\n",
    "    \"Paris\": {\n",
    "        \"weather_list\": [{\n",
    "            \"dt\": 1569434400,\n",
    "            \"main\": {\"temp\": 289.15, \"humidity\": 76},\n",
    "            \"dt_txt\": \"2019-09-25 18:00:00\"\n",
    "        }, {\n",
    "            \"dt\": 1569445200,\n",
    "            \"main\": {\n",
    "                \"temp\": 289.62,\n",
    "                \"humidity\": 87\n",
    "            },\n",
    "            \"dt_txt\": \"2019-09-25 21:00:00\"\n",
    "        }],\n",
    "        \"metadata\": {\n",
    "            \"coord\": {\"lat\": 48.8566, \"lon\": 2.3515},\n",
    "            \"country\": \"FR\",\n",
    "        }\n",
    "    },\n",
    "    \"London\": {\n",
    "        \"weather_list\": [{\n",
    "            \"dt\": 1569434400,\n",
    "            \"main\": {\"temp\": 289.52, \"humidity\": 77},\n",
    "            \"dt_txt\": \"2019-09-25 18:00:00\"\n",
    "        }, {\n",
    "            \"dt\": 1569445200,\n",
    "            \"main\": {\"temp\": 287.78, \"humidity\": 86},\n",
    "            \"dt_txt\": \"2019-09-25 21:00:00\"\n",
    "        }],\n",
    "        \"metadata\": {\n",
    "            \"coord\": {\"lat\": 51.5073, \"lon\": -0.1277},\n",
    "            \"country\": \"GB\",\n",
    "        }\n",
    "    }\n",
    "}\n",
    "\n",
    "\n",
    "# Given the above data, write a function which return a list of dict,\n",
    "# where each dict contains these fields:\n",
    "# - name (str): the city name\n",
    "# - country (str): the city country\n",
    "# - date (str): the date\n",
    "# - temp (float): the temperature in °celsius (not °kelvin)\n",
    "def extract_data(data):\n",
    "    l = []\n",
    "    for (key, val) in data.items():\n",
    "        sub = {}\n",
    "        sub[\"name\"] = key\n",
    "        sub[\"country\"] = val[\"metadata\"][\"country\"]\n",
    "        sub[\"date\"] = val[\"weather_list\"][0][\"dt_txt\"]\n",
    "        sub[\"temp\"] = str(round(float(val[\"weather_list\"][0][\"main\"][\"temp\"])-273.15,1))+\" °celsius\"\n",
    "        l.append(sub)\n",
    "    return l\n",
    "extract_data(weather_data)"
   ]
  },
  {
   "cell_type": "code",
   "execution_count": null,
   "metadata": {},
   "outputs": [],
   "source": []
  }
 ],
 "metadata": {
  "kernelspec": {
   "display_name": "Python 3",
   "language": "python",
   "name": "python3"
  },
  "language_info": {
   "codemirror_mode": {
    "name": "ipython",
    "version": 3
   },
   "file_extension": ".py",
   "mimetype": "text/x-python",
   "name": "python",
   "nbconvert_exporter": "python",
   "pygments_lexer": "ipython3",
   "version": "3.7.3"
  }
 },
 "nbformat": 4,
 "nbformat_minor": 2
}
