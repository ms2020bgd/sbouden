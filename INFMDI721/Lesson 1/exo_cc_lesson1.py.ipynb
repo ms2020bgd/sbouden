{
 "cells": [
  {
   "cell_type": "code",
   "execution_count": 2,
   "metadata": {},
   "outputs": [
    {
     "name": "stdout",
     "output_type": "stream",
     "text": [
      "heyheyhey\n"
     ]
    }
   ],
   "source": [
    "import math\n",
    "import unittest\n",
    "\n",
    "\n",
    "# Given a string and a non-negative int n, return a larger string\n",
    "# that is n copies of the original string.\n",
    "# Example: string_times(\"hey\", 3) should return \"heyheyhey\"\n",
    "def string_times(string, n):\n",
    "    print(string * n)\n",
    "    return \n",
    "string_times(\"hey\", 3)"
   ]
  },
  {
   "cell_type": "code",
   "execution_count": 6,
   "metadata": {},
   "outputs": [
    {
     "data": {
      "text/plain": [
       "False"
      ]
     },
     "execution_count": 6,
     "metadata": {},
     "output_type": "execute_result"
    }
   ],
   "source": [
    "# Write a function which returns True if a year is a leap year.\n",
    "# A year is leap year if:\n",
    "# - it is divisible by 4 AND indivisible by 100\n",
    "# or if:\n",
    "# - it is divisible by 400\n",
    "def is_leap_year(year):\n",
    "    \n",
    "    return year % 4 == 0 and (year % 100 != 0 or year % 400 == 0)\n",
    "is_leap_year(2009)"
   ]
  },
  {
   "cell_type": "code",
   "execution_count": 29,
   "metadata": {},
   "outputs": [
    {
     "name": "stdout",
     "output_type": "stream",
     "text": [
      "None\n"
     ]
    }
   ],
   "source": [
    "# Given a list of ints, return True if one of the first 4 elements\n",
    "# in the array is a 9. The list length may be less than 4.\n",
    "def array_front9(nums):\n",
    "    exsite=\"False\"\n",
    "    if len(nums)>=4:\n",
    "        for i in range(0,3):\n",
    "            if (nums[i]==9): existe=\"True\"\n",
    "    return\n",
    "print(array_front9([1,2,3,4,9,1]))"
   ]
  },
  {
   "cell_type": "code",
   "execution_count": 21,
   "metadata": {},
   "outputs": [],
   "source": [
    "# Given a list of ints, return the list of their square root.\n",
    "def list_sqrt(nums):\n",
    "    for i in range(len(nums)): print(math.sqrt(nums[i]))\n",
    "    return \n",
    "#list_sqrt([1,2,3])"
   ]
  },
  {
   "cell_type": "code",
   "execution_count": 24,
   "metadata": {},
   "outputs": [
    {
     "data": {
      "text/plain": [
       "Counter({'d': 5, 'h': 1, 'k': 2})"
      ]
     },
     "execution_count": 24,
     "metadata": {},
     "output_type": "execute_result"
    }
   ],
   "source": [
    "# Write a function which return a dict containing the number of time each letter\n",
    "# is present in the given text.\n",
    "def occurences(text):\n",
    "    from collections import Counter\n",
    "    return Counter(text)\n",
    "occurences(\"ddhdkddk\")"
   ]
  },
  {
   "cell_type": "code",
   "execution_count": null,
   "metadata": {},
   "outputs": [],
   "source": []
  }
 ],
 "metadata": {
  "kernelspec": {
   "display_name": "Python 3",
   "language": "python",
   "name": "python3"
  },
  "language_info": {
   "codemirror_mode": {
    "name": "ipython",
    "version": 3
   },
   "file_extension": ".py",
   "mimetype": "text/x-python",
   "name": "python",
   "nbconvert_exporter": "python",
   "pygments_lexer": "ipython3",
   "version": "3.7.1"
  }
 },
 "nbformat": 4,
 "nbformat_minor": 2
}
